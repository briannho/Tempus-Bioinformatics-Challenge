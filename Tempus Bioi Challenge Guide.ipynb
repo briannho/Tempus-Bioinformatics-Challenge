{
 "cells": [
  {
   "cell_type": "markdown",
   "metadata": {},
   "source": [
    "# Tempus Bioinformatics Technical Challenge\n",
    "The goal of this challenge is to prototype a variant annotation tool that accepts VCF files and outputs TSV files. This notebook will serve as an extended guide of the Python script."
   ]
  },
  {
   "cell_type": "markdown",
   "metadata": {},
   "source": [
    "### Getting Started\n",
    "First, we import the necessary libraries. Pysam will be used to load and parse the VCF file. Requests will be used to access the Exome Aggregation Consortium (ExAC) API (http://exac.hms.harvard.edu/) in order to get data about the variants. The json package will parse data from the ExAC API."
   ]
  },
  {
   "cell_type": "code",
   "execution_count": 899,
   "metadata": {},
   "outputs": [],
   "source": [
    "from pysam import VariantFile\n",
    "import requests\n",
    "import json"
   ]
  },
  {
   "cell_type": "markdown",
   "metadata": {},
   "source": [
    "The **get_variants** function returns a list containing the variants (rows) from the VCF file. The .fetch() function generates VariantRecord objects that allow access to attributes of each variant from the VCF header."
   ]
  },
  {
   "cell_type": "code",
   "execution_count": 900,
   "metadata": {},
   "outputs": [],
   "source": [
    "def get_variants(vcf):\n",
    "    return [var for var in vcf.fetch()]"
   ]
  },
  {
   "cell_type": "markdown",
   "metadata": {},
   "source": [
    "The **get_samples** function simply returns a list of the names of the samples in the VCF file."
   ]
  },
  {
   "cell_type": "code",
   "execution_count": 901,
   "metadata": {},
   "outputs": [],
   "source": [
    "def get_samples(vcf):\n",
    "    return list(vcf.header.samples)"
   ]
  },
  {
   "cell_type": "markdown",
   "metadata": {},
   "source": [
    "Let's load the vcf data."
   ]
  },
  {
   "cell_type": "code",
   "execution_count": 902,
   "metadata": {},
   "outputs": [
    {
     "data": {
      "text/plain": [
       "<pysam.libcbcf.VariantFile at 0x11cd34288>"
      ]
     },
     "execution_count": 902,
     "metadata": {},
     "output_type": "execute_result"
    }
   ],
   "source": [
    "data = VariantFile('Challenge_data.vcf')\n",
    "data"
   ]
  },
  {
   "cell_type": "markdown",
   "metadata": {},
   "source": [
    "The **get_records** function fetches all the variants from data. We're only keeping the first 100 rows for simplicity reasons. The first row is printed here."
   ]
  },
  {
   "cell_type": "code",
   "execution_count": 903,
   "metadata": {},
   "outputs": [
    {
     "name": "stdout",
     "output_type": "stream",
     "text": [
      "1\t931393\t.\tG\tT\t2.17938e-13\t.\tAB=0;ABP=0;AC=0;AF=0;AN=6;AO=95;CIGAR=1X;DP=4124;DPB=4124;DPRA=0.999031;EPP=9.61615;EPPR=316.776;GTI=0;LEN=1;MEANALT=1;MQM=59.7579;MQMR=65.2274;NS=2;NUMALT=1;ODDS=591.29;PAIRED=0.989474;PAIREDR=0.966741;PAO=0;PQA=0;PQR=0;PRO=0;QA=3774;QR=160284;RO=4029;RPL=51;RPP=4.13032;RPPR=101.278;RPR=44;RUN=1;SAF=40;SAP=8.15326;SAR=55;SRF=1663;SRP=269.369;SRR=2366;TYPE=snp\tGT:GQ:DP:DPR:RO:QR:AO:QA\t0/0/0:132.995:2063:2063,0:2063:82063:0:0\t0/0/0:132.995:2061:2061,95:1966:78221:95:3774\n",
      "\n"
     ]
    }
   ],
   "source": [
    "variants = get_variants(data)\n",
    "variants = variants[0:100]\n",
    "print(variants[0])"
   ]
  },
  {
   "cell_type": "markdown",
   "metadata": {},
   "source": [
    "The names of the samples can be retrieved with the **get_samples** function."
   ]
  },
  {
   "cell_type": "code",
   "execution_count": 904,
   "metadata": {},
   "outputs": [
    {
     "name": "stdout",
     "output_type": "stream",
     "text": [
      "['normal', 'vaf5']\n"
     ]
    }
   ],
   "source": [
    "samples = get_samples(data)\n",
    "print(samples)"
   ]
  },
  {
   "cell_type": "markdown",
   "metadata": {},
   "source": [
    "### Annotation Functions\n",
    "Now, we have the functions that will perform the annotations on the VCF file. The input for these functions is always the list returned from **get_variants**. Because some variants have multiple alleles, most of these functions will follow a similar pattern. There is an if statement that handles variants that only have one allele and converted to a string. There is an if statement that handles variants with multiple alleles in which all annotations are concatenated into one string, but comma separated."
   ]
  },
  {
   "cell_type": "markdown",
   "metadata": {},
   "source": [
    "The **variant_types** function iterates through the variants and gets the variant type. The variant type is taken from the VCF header:\n",
    "##INFO=<ID=TYPE,Number=A,Type=String,Description=\"The type of allele, either snp, mnp, ins, del, or complex.\">\n",
    "\n",
    "If there is more than one variant, all types will be concatenated into one string and appended to the list. "
   ]
  },
  {
   "cell_type": "code",
   "execution_count": 905,
   "metadata": {},
   "outputs": [],
   "source": [
    "def variant_types(variants):\n",
    "    var_types = []\n",
    "    \n",
    "    for var in variants:\n",
    "        var_type = var.info['TYPE']\n",
    "        \n",
    "        # one type associated with variant\n",
    "        if len(var_type) == 1:\n",
    "            var_types.append(var_type[0])\n",
    "            \n",
    "        # multiple types associated with variant because there are multiple alleles\n",
    "        elif len(var_type) > 1:\n",
    "            var_types.append(','.join(var.info['TYPE']))\n",
    "            \n",
    "    return var_types"
   ]
  },
  {
   "cell_type": "markdown",
   "metadata": {},
   "source": [
    "Let's run **variant_types**. Two results have been printed here. The first result is a variant that is a snp i.e. a substitution. The second result is a variant with two alleles. One allele is a deletion, the other is an insertion. As you can see, variants with more than one allele have their results concatenated into one string."
   ]
  },
  {
   "cell_type": "code",
   "execution_count": 906,
   "metadata": {},
   "outputs": [
    {
     "name": "stdout",
     "output_type": "stream",
     "text": [
      "Variant types annotated.\n",
      "snp\n",
      "del,ins\n"
     ]
    }
   ],
   "source": [
    "var_types = variant_types(variants)\n",
    "print(var_types[0])\n",
    "print(var_types[53])"
   ]
  },
  {
   "cell_type": "markdown",
   "metadata": {},
   "source": [
    "The **effects** function returns the consequence or effect caused by the variant. The effect caused by variant is determined from the ExAC API. If there is no record of it in ExAC, then a '.' denotes a null value. Sometimes, an allele may cause multiple effects. In this case, a different function, rank_effects, is called that determines and keeps only the most deleterious effect."
   ]
  },
  {
   "cell_type": "code",
   "execution_count": 915,
   "metadata": {},
   "outputs": [],
   "source": [
    "def effects(variants):\n",
    "    effects = []\n",
    "    \n",
    "    for var in variants:\n",
    "        chrom = str(var.chrom)\n",
    "        pos = str(var.pos)\n",
    "        ref = var.ref\n",
    "        alts = var.alts\n",
    "\n",
    "        # one allele associated with variant\n",
    "        if len(alts) == 1:\n",
    "\n",
    "            # ExAC API request\n",
    "            var_id = f'{chrom}-{pos}-{ref}-{alts[0]}'\n",
    "            request = f'http://exac.hms.harvard.edu/rest/variant/consequences/{var_id}'\n",
    "            response = requests.get(request)\n",
    "            text = json.loads(response.text)\n",
    "            \n",
    "            # No recorded effects associated with variant\n",
    "            if text is None or text == {}:\n",
    "                effects.append('.')\n",
    "            \n",
    "            # there is at least one effect associated  \n",
    "            else:\n",
    "                effect = list(text.keys())\n",
    "                \n",
    "                # only one effect is associated\n",
    "                if len(effect) == 1:\n",
    "                    effects.append(str(effect[0]))\n",
    "                \n",
    "                # more than one effects are associated, so the most deleterious effect is chosen\n",
    "                elif len(effect) > 1:\n",
    "                    effects.append(rank_effects(effect))\n",
    "\n",
    "        # more than one alleles associated with variant\n",
    "        if len(alts) > 1:\n",
    "            effects_temp = []\n",
    "            \n",
    "            # iterate through each allele\n",
    "            for alt in alts:\n",
    "\n",
    "                # ExAC API request\n",
    "                var_id = f'{chrom}-{pos}-{ref}-{alt}'\n",
    "                request = f'http://exac.hms.harvard.edu/rest/variant/consequences/{var_id}'\n",
    "                response = requests.get(request)\n",
    "                text = json.loads(response.text)\n",
    "                \n",
    "                # No recorded effects associated with variant\n",
    "                if text is None or text == {}:\n",
    "                    effects_temp.append('.')\n",
    "                \n",
    "                # there is at least one effect associated\n",
    "                else:\n",
    "                    effect = list(text.keys())\n",
    "                    \n",
    "                    # only one effect is associated\n",
    "                    if len(effect) == 1:\n",
    "                        effects_temp.append(str(effect[0])) \n",
    "                    \n",
    "                    # more than one effects are associated, so the most deleterious effect is chosen\n",
    "                    elif len(effect) > 1:\n",
    "                        effects_temp.append(rank_effects(effect))\n",
    "\n",
    "            # concatenates elements of effects_temp into one string and stores it in effects\n",
    "            effects.append(','.join(effects_temp))\n",
    "    \n",
    "    return effects"
   ]
  },
  {
   "cell_type": "markdown",
   "metadata": {},
   "source": [
    "The **rank_effects** function iterates through a list of all effects caused by a single allele and returns the most deleterious effect. The first if statement contains the most deleterious effect, and following if statements are ranked less deleterious than the previous."
   ]
  },
  {
   "cell_type": "code",
   "execution_count": 916,
   "metadata": {},
   "outputs": [],
   "source": [
    "# returns most deleterious effect if variant has two or more effects\n",
    "def rank_effects(effects):\n",
    "    if 'stop_gained' in effects:\n",
    "        return 'stop_gained'\n",
    "    elif 'stop_lost' in effects:\n",
    "        return 'stop_lost'\n",
    "    elif 'missense_variant' in effects:\n",
    "        return 'missense_variant'\n",
    "    elif 'initiator_codon_variant' in effects:\n",
    "        return 'initiator_codon_variant'\n",
    "    elif 'splice_acceptor_variant' in effects:\n",
    "        return 'splice_acceptor_variant'\n",
    "    elif 'splice_donor_variant' in effects:\n",
    "        return 'splice_donor_variant'\n",
    "    elif 'splice_region_variant' in effects:\n",
    "        return 'splice_region_variant'\n",
    "    elif '5_prime_UTR_variant' in effects:\n",
    "        return '5_prime_UTR_variant'\n",
    "    elif '3_prime_UTR_variant' in effects:\n",
    "        return '3_prime_UTR_variant'\n",
    "    elif 'non_coding_transcript_exon_variant' in effects:\n",
    "        return 'non_coding_transcript_exon_variant'\n",
    "    elif 'intron_variant' in effects:\n",
    "        return 'intron_variant'\n",
    "    elif 'stop_retained_variant' in effects:\n",
    "        return 'stop_retained_variant'\n",
    "    elif 'synonymous_variant' in effects:\n",
    "        return 'synonymous_variant'\n",
    "    else:\n",
    "        return '.'"
   ]
  },
  {
   "cell_type": "markdown",
   "metadata": {},
   "source": [
    "Let's run **effects**. I've printed three results here. The first result is a null value, which means this variant does not have an effect listed in the ExAC database. The second result does have an effect, missense_variant. The third result has two alleles, but neither exist in the ExAC database."
   ]
  },
  {
   "cell_type": "code",
   "execution_count": 917,
   "metadata": {},
   "outputs": [
    {
     "name": "stdout",
     "output_type": "stream",
     "text": [
      ".\n",
      "missense_variant\n",
      ".,.\n"
     ]
    }
   ],
   "source": [
    "consequences = effects(variants)\n",
    "print(consequences[0])\n",
    "print(consequences[1])\n",
    "print(consequences[53])"
   ]
  },
  {
   "cell_type": "markdown",
   "metadata": {},
   "source": [
    "The **reads_stats** function returns the total read depth, the number of reads supporting the variant, and the percentage of reads supporting the variant across all samples."
   ]
  },
  {
   "cell_type": "code",
   "execution_count": 919,
   "metadata": {},
   "outputs": [],
   "source": [
    "def reads_stats(variants):\n",
    "    stats = []\n",
    "    \n",
    "    for var in variants:\n",
    "        DP = var.info['DP'] # read depth\n",
    "        AOs = var.info['AO'] # allele observation count\n",
    "\n",
    "        # one allele associated with variant\n",
    "        if len(AOs) == 1:\n",
    "            AO = AOs[0]\n",
    "            percent = round((AO/DP)*100, 2)\n",
    "            stats.append([str(DP), str(AO), str(percent)])\n",
    "\n",
    "        # more than one allele associated \n",
    "        elif len(AOs) > 1:\n",
    "            percents = []\n",
    "            \n",
    "            # iterates through each allele \n",
    "            for AO in AOs:\n",
    "                percent = round((AO/DP)*100, 2)\n",
    "                percents.append(str(percent))\n",
    "                \n",
    "            AOs = [str(AO) for AO in AOs] \n",
    "            stats.append([str(DP), ','.join(AOs), ','.join(percents)])\n",
    "    \n",
    "    return stats"
   ]
  },
  {
   "cell_type": "markdown",
   "metadata": {},
   "source": [
    "Let's run **read_stats**. The function returns a list of lists. In the first result is a list containing, from left to right, the total read depth, the number of reads supporting the variant, and the percent of reads supporting the variant. In this case, it'd be 4124 total reads, 95 reads support the variant, so 2.30% of reads support the variant. \n",
    "\n",
    "In the second result, this variant has alleles. To comprehend this, there are 2232 total reads, 70 reads support the first allele of this variant while 30 reads support the second allele of this variant. Therefore, 3.14% of reads support the first allele and 1.34% of reads support the second allele."
   ]
  },
  {
   "cell_type": "code",
   "execution_count": 920,
   "metadata": {},
   "outputs": [
    {
     "name": "stdout",
     "output_type": "stream",
     "text": [
      "['4124', '95', '2.3']\n",
      "['2232', '70,30', '3.14,1.34']\n"
     ]
    }
   ],
   "source": [
    "reads = reads_stats(variants)\n",
    "print(reads[0])\n",
    "print(reads[53])"
   ]
  },
  {
   "cell_type": "markdown",
   "metadata": {},
   "source": [
    "The **allele_freq** function returns the allele frequency of each variant. The allele frequency is fetched from the ExAC API. Variants with no known allele frequency from ExAC are denoted with a '.' as a null value."
   ]
  },
  {
   "cell_type": "code",
   "execution_count": 926,
   "metadata": {},
   "outputs": [],
   "source": [
    "def allele_freq(variants):\n",
    "    AFs = []\n",
    "    \n",
    "    for var in variants:\n",
    "        chrom = str(var.chrom)\n",
    "        pos = str(var.pos)\n",
    "        ref = var.ref\n",
    "        alts = var.alts\n",
    "\n",
    "        # one allele associated with variant\n",
    "        if len(alts) == 1:\n",
    "\n",
    "            # ExAC API request\n",
    "            var_id = f'{chrom}-{pos}-{ref}-{alts[0]}'\n",
    "            request = f'http://exac.hms.harvard.edu/rest/variant/variant/{var_id}'\n",
    "            response = requests.get(request)\n",
    "            text = json.loads(response.text)\n",
    "            \n",
    "            if 'allele_freq' in text.keys():\n",
    "                AF = text['allele_freq']\n",
    "                AFs.append(str(AF))   \n",
    "            else:\n",
    "                AFs.append('.')\n",
    "\n",
    "        # more than one alleles associated with variant\n",
    "        if len(alts) > 1:\n",
    "            AFs_temp = []\n",
    "            \n",
    "            # iterate through each allele\n",
    "            for alt in alts:\n",
    "\n",
    "                # ExAC API request\n",
    "                var_id = f'{chrom}-{pos}-{ref}-{alt}'\n",
    "                request = f'http://exac.hms.harvard.edu/rest/variant/variant/{var_id}'\n",
    "                response = requests.get(request)\n",
    "                text = json.loads(response.text)\n",
    "                \n",
    "                if 'allele_freq' in text.keys():\n",
    "                    AF = text['allele_freq']\n",
    "                    AFs_temp.append(str(AF))   \n",
    "                else:\n",
    "                    AFs_temp.append('.')\n",
    "\n",
    "            # concatenates elements of AFs_temp into one string and stores it in AFs\n",
    "            AFs.append(','.join(AFs_temp))\n",
    "\n",
    "    return AFs"
   ]
  },
  {
   "cell_type": "markdown",
   "metadata": {},
   "source": [
    "Let's run **allele_freq**. Like **effects**, results are fetched from the ExAC API. Here, the first result does not have an allele frequency in the ExAC database, so the null value is denoted as '.'. The second result does have an allele frequency, 0.6611108268522309. The third result has two alleles for this variant, but neither are found in the ExAC database."
   ]
  },
  {
   "cell_type": "code",
   "execution_count": 927,
   "metadata": {},
   "outputs": [
    {
     "name": "stdout",
     "output_type": "stream",
     "text": [
      ".\n",
      "0.6611108268522309\n",
      ".,.\n"
     ]
    }
   ],
   "source": [
    "AFs = allele_freq(variants)\n",
    "print(AFs[0])\n",
    "print(AFs[1])\n",
    "print(AFs[53])"
   ]
  },
  {
   "cell_type": "markdown",
   "metadata": {},
   "source": [
    "The **reads_per_sample_stats** function is very similar to the **reads_stats** function. However, it calculates the same information for each sample i.e. read depth for sample1, sample2, etc."
   ]
  },
  {
   "cell_type": "code",
   "execution_count": 925,
   "metadata": {},
   "outputs": [],
   "source": [
    "def reads_per_sample_stats(variants):\n",
    "    reads_per_sample_stats = []\n",
    "    \n",
    "    for var in variants:\n",
    "        temp = []\n",
    "\n",
    "        #iterates through each sample\n",
    "        for sample in var.samples:\n",
    "            DP = var.samples[sample]['DP'] # sample read depth\n",
    "            AOs = var.samples[sample]['AO'] # sample allele observatopm count(s)\n",
    "\n",
    "            # one allele associated with variant\n",
    "            if len(AOs) == 1:\n",
    "                AO = AOs[0]\n",
    "                percent = round((AO/DP)*100, 2)\n",
    "                temp.append([str(DP), str(AO), str(percent)])\n",
    "\n",
    "            # more than one allele associated\n",
    "            elif len(AOs) > 1:\n",
    "                percents = []\n",
    "                \n",
    "                # iterates through each allele\n",
    "                for AO in AOs:\n",
    "                    percent = round((AO/DP)*100, 2)\n",
    "                    percents.append(str(percent))\n",
    "                    \n",
    "                AOs = [str(AO) for AO in AOs] \n",
    "                temp.append([str(DP), ','.join(AOs), ','.join(percents)])\n",
    "\n",
    "        # appends list of samples to reads_per_sample_stats\n",
    "        reads_per_sample_stats.append(temp)\n",
    "\n",
    "    return reads_per_sample_stats"
   ]
  },
  {
   "cell_type": "markdown",
   "metadata": {},
   "source": [
    "Let's run **reads_per_sample_stats**. This function returns a list of lists. Within each element(list) are lists containing the same information as **reads_stats**, but for each sample i.e each list corresponds to each sample. This is done by zipping together the odd indexes of reads_per_sample_stats with the even indexes.\n",
    "\n",
    "For example, in the first result, this list has two lists because there are two samples in the VCF file: \"normal\" and \"vaf5\". For this list, the first element corresponds to the first sample, and so on. For this particular variant, the \"normal\" sample has 2063 reads, but 0 reads support the variant. The \"vaf5\" sample has 2061 reads, and 95 of those reads support the variant, so 4.61% reads support the variant just within the \"vaf5\" sample."
   ]
  },
  {
   "cell_type": "code",
   "execution_count": 898,
   "metadata": {},
   "outputs": [
    {
     "name": "stdout",
     "output_type": "stream",
     "text": [
      "Reads per sample stats annotated.\n",
      "[['2063', '0', '0.0'], ['2061', '95', '4.61']]\n",
      "[['1116', '35,15', '3.14,1.34'], ['1116', '35,15', '3.14,1.34']]\n"
     ]
    }
   ],
   "source": [
    "reads_per_sample = reads_per_sample_stats(variants)\n",
    "print(reads_per_sample[0])\n",
    "print(reads_per_sample[53])"
   ]
  },
  {
   "cell_type": "markdown",
   "metadata": {},
   "source": [
    "### Writing TSV file\n",
    "Now we can finally begin to write the output file. First, we must construct the header."
   ]
  },
  {
   "cell_type": "code",
   "execution_count": 928,
   "metadata": {},
   "outputs": [
    {
     "name": "stdout",
     "output_type": "stream",
     "text": [
      "ref\talt\tvariant_type\teffect\ttotal_read_depth\ttotal_alt_allele_reads\tpercent_total_alt_allele_reads(%)\tallele_frequency\tnormal_read_depth\tnormal_alt_allele_reads\tnormal_percent_total_alt_allele_reads(%)\tvaf5_read_depth\tvaf5_alt_allele_reads\tvaf5_percent_total_alt_allele_reads(%)\n"
     ]
    }
   ],
   "source": [
    "columns = ['ref', 'alt', 'variant_type', 'effect','total_read_depth', 'total_alt_allele_reads', \n",
    "               'percent_total_alt_allele_reads(%)', 'allele_frequency']\n",
    "    \n",
    "for sample in samples:\n",
    "    columns.append(f'{sample}_read_depth')\n",
    "    columns.append(f'{sample}_alt_allele_reads')\n",
    "    columns.append(f'{sample}_percent_total_alt_allele_reads(%)')\n",
    "\n",
    "header = '\\t'.join(columns)\n",
    "print(header)"
   ]
  },
  {
   "cell_type": "markdown",
   "metadata": {},
   "source": [
    "Next, we open a tsv file called challenge_data_output.tsv. \n",
    "\n",
    "We then create a list of integers that are a range of the number of rows in the input VCF file. Now, we iterate through all of the lists that were returned from the annotation functions and write it into the file. Finally, we close the file."
   ]
  },
  {
   "cell_type": "code",
   "execution_count": 929,
   "metadata": {},
   "outputs": [],
   "source": [
    "output = open('challenge_data_output_100.tsv', 'w')\n",
    "output.write(header+'\\n')\n",
    "\n",
    "index = range(len(records))\n",
    "\n",
    "for i in index:\n",
    "    row = '\\t'.join([variants[i].ref, ','.join(variants[i].alts), var_types[i], consequences[i], \\\n",
    "          '\\t'.join(reads[i]), AFs[i]]) + '\\t'\n",
    "\n",
    "    for j in range(len(samples)):\n",
    "        row = row + '\\t'.join(reads_per_sample[i][j]) + '\\t'\n",
    "        row.strip('\\t')\n",
    "\n",
    "    output.write(row + '\\n')\n",
    "\n",
    "output.close()"
   ]
  },
  {
   "cell_type": "markdown",
   "metadata": {},
   "source": [
    "We can take a look at how the output file looks like here:"
   ]
  },
  {
   "cell_type": "code",
   "execution_count": 930,
   "metadata": {},
   "outputs": [
    {
     "data": {
      "text/html": [
       "<div>\n",
       "<style scoped>\n",
       "    .dataframe tbody tr th:only-of-type {\n",
       "        vertical-align: middle;\n",
       "    }\n",
       "\n",
       "    .dataframe tbody tr th {\n",
       "        vertical-align: top;\n",
       "    }\n",
       "\n",
       "    .dataframe thead th {\n",
       "        text-align: right;\n",
       "    }\n",
       "</style>\n",
       "<table border=\"1\" class=\"dataframe\">\n",
       "  <thead>\n",
       "    <tr style=\"text-align: right;\">\n",
       "      <th></th>\n",
       "      <th>ref</th>\n",
       "      <th>alt</th>\n",
       "      <th>variant_type</th>\n",
       "      <th>effect</th>\n",
       "      <th>total_read_depth</th>\n",
       "      <th>total_alt_allele_reads</th>\n",
       "      <th>percent_total_alt_allele_reads(%)</th>\n",
       "      <th>allele_frequency</th>\n",
       "      <th>normal_read_depth</th>\n",
       "      <th>normal_alt_allele_reads</th>\n",
       "      <th>normal_percent_total_alt_allele_reads(%)</th>\n",
       "      <th>vaf5_read_depth</th>\n",
       "      <th>vaf5_alt_allele_reads</th>\n",
       "      <th>vaf5_percent_total_alt_allele_reads(%)</th>\n",
       "    </tr>\n",
       "  </thead>\n",
       "  <tbody>\n",
       "    <tr>\n",
       "      <th>0</th>\n",
       "      <td>G</td>\n",
       "      <td>T</td>\n",
       "      <td>snp</td>\n",
       "      <td>.</td>\n",
       "      <td>4124</td>\n",
       "      <td>95</td>\n",
       "      <td>2.3</td>\n",
       "      <td>.</td>\n",
       "      <td>2063</td>\n",
       "      <td>0</td>\n",
       "      <td>0.0</td>\n",
       "      <td>2061</td>\n",
       "      <td>95</td>\n",
       "      <td>4.61</td>\n",
       "    </tr>\n",
       "    <tr>\n",
       "      <th>1</th>\n",
       "      <td>C</td>\n",
       "      <td>A</td>\n",
       "      <td>snp</td>\n",
       "      <td>missense_variant</td>\n",
       "      <td>1134</td>\n",
       "      <td>652</td>\n",
       "      <td>57.5</td>\n",
       "      <td>0.6611108268522309</td>\n",
       "      <td>567</td>\n",
       "      <td>326</td>\n",
       "      <td>57.5</td>\n",
       "      <td>567</td>\n",
       "      <td>326</td>\n",
       "      <td>57.5</td>\n",
       "    </tr>\n",
       "    <tr>\n",
       "      <th>2</th>\n",
       "      <td>T</td>\n",
       "      <td>C</td>\n",
       "      <td>snp</td>\n",
       "      <td>non_coding_transcript_exon_variant</td>\n",
       "      <td>786</td>\n",
       "      <td>786</td>\n",
       "      <td>100.0</td>\n",
       "      <td>0.997571146075144</td>\n",
       "      <td>393</td>\n",
       "      <td>393</td>\n",
       "      <td>100.0</td>\n",
       "      <td>393</td>\n",
       "      <td>393</td>\n",
       "      <td>100.0</td>\n",
       "    </tr>\n",
       "    <tr>\n",
       "      <th>3</th>\n",
       "      <td>G</td>\n",
       "      <td>A</td>\n",
       "      <td>snp</td>\n",
       "      <td>5_prime_UTR_variant</td>\n",
       "      <td>228</td>\n",
       "      <td>228</td>\n",
       "      <td>100.0</td>\n",
       "      <td>0.8972993695689214</td>\n",
       "      <td>114</td>\n",
       "      <td>114</td>\n",
       "      <td>100.0</td>\n",
       "      <td>114</td>\n",
       "      <td>114</td>\n",
       "      <td>100.0</td>\n",
       "    </tr>\n",
       "    <tr>\n",
       "      <th>4</th>\n",
       "      <td>G</td>\n",
       "      <td>A</td>\n",
       "      <td>snp</td>\n",
       "      <td>splice_region_variant</td>\n",
       "      <td>4055</td>\n",
       "      <td>94</td>\n",
       "      <td>2.32</td>\n",
       "      <td>1.1137593834228053e-05</td>\n",
       "      <td>2057</td>\n",
       "      <td>0</td>\n",
       "      <td>0.0</td>\n",
       "      <td>1998</td>\n",
       "      <td>94</td>\n",
       "      <td>4.7</td>\n",
       "    </tr>\n",
       "  </tbody>\n",
       "</table>\n",
       "</div>"
      ],
      "text/plain": [
       "  ref alt variant_type                              effect  total_read_depth  \\\n",
       "0   G   T          snp                                   .              4124   \n",
       "1   C   A          snp                    missense_variant              1134   \n",
       "2   T   C          snp  non_coding_transcript_exon_variant               786   \n",
       "3   G   A          snp                 5_prime_UTR_variant               228   \n",
       "4   G   A          snp               splice_region_variant              4055   \n",
       "\n",
       "  total_alt_allele_reads percent_total_alt_allele_reads(%)  \\\n",
       "0                     95                               2.3   \n",
       "1                    652                              57.5   \n",
       "2                    786                             100.0   \n",
       "3                    228                             100.0   \n",
       "4                     94                              2.32   \n",
       "\n",
       "         allele_frequency  normal_read_depth normal_alt_allele_reads  \\\n",
       "0                       .               2063                       0   \n",
       "1      0.6611108268522309                567                     326   \n",
       "2       0.997571146075144                393                     393   \n",
       "3      0.8972993695689214                114                     114   \n",
       "4  1.1137593834228053e-05               2057                       0   \n",
       "\n",
       "  normal_percent_total_alt_allele_reads(%)  vaf5_read_depth  \\\n",
       "0                                      0.0             2061   \n",
       "1                                     57.5              567   \n",
       "2                                    100.0              393   \n",
       "3                                    100.0              114   \n",
       "4                                      0.0             1998   \n",
       "\n",
       "  vaf5_alt_allele_reads vaf5_percent_total_alt_allele_reads(%)  \n",
       "0                    95                                   4.61  \n",
       "1                   326                                   57.5  \n",
       "2                   393                                  100.0  \n",
       "3                   114                                  100.0  \n",
       "4                    94                                    4.7  "
      ]
     },
     "execution_count": 930,
     "metadata": {},
     "output_type": "execute_result"
    }
   ],
   "source": [
    "import pandas as pd\n",
    "tsv = pd.read_csv('challenge_data_output_100.tsv', delimiter='\\t', index_col=False)\n",
    "tsv.head(5)"
   ]
  },
  {
   "cell_type": "markdown",
   "metadata": {},
   "source": [
    "This concludes the extended guide to this prototype variant annotation tool."
   ]
  }
 ],
 "metadata": {
  "kernelspec": {
   "display_name": "Python 3",
   "language": "python",
   "name": "python3"
  },
  "language_info": {
   "codemirror_mode": {
    "name": "ipython",
    "version": 3
   },
   "file_extension": ".py",
   "mimetype": "text/x-python",
   "name": "python",
   "nbconvert_exporter": "python",
   "pygments_lexer": "ipython3",
   "version": "3.7.3"
  }
 },
 "nbformat": 4,
 "nbformat_minor": 2
}
